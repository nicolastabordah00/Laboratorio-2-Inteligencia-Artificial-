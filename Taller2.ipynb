{
 "cells": [
  {
   "cell_type": "code",
   "execution_count": 4,
   "metadata": {},
   "outputs": [],
   "source": [
    "from sklearn.datasets import load_digits\n",
    "import pylab as pl\n",
    "import sklearn"
   ]
  },
  {
   "cell_type": "code",
   "execution_count": 5,
   "metadata": {},
   "outputs": [
    {
     "data": {
      "text/plain": [
       "sklearn.utils.Bunch"
      ]
     },
     "execution_count": 5,
     "metadata": {},
     "output_type": "execute_result"
    }
   ],
   "source": [
    "# cargamos los datos y desplegamos el objeto\n",
    "digits = load_digits()\n",
    "type(digits)"
   ]
  },
  {
   "cell_type": "code",
   "execution_count": 9,
   "metadata": {},
   "outputs": [],
   "source": [
    "#Algoritmo para encontrar los ochos\n",
    "def encuentraNumOcho(matriz):\n",
    "    resultado = False\n",
    "    contadorCeros = 0\n",
    "    for i in range(8):\n",
    "        for j in range(4):\n",
    "            #print(\"Fila: \" + str(i) + \" Columna: \" + str(j+2))\n",
    "            if(matriz[i][j + 2] == 0):\n",
    "                contadorCeros = contadorCeros + 1\n",
    "                \n",
    "    huecoSuperior = 0\n",
    "    huecoInferior = 0\n",
    "    centro = 0\n",
    "    \n",
    "    huecoSuperior = matriz[1][3] + matriz[1][4] + matriz[2][3] + matriz[2][4]\n",
    "    huecoInferior = matriz[5][3] + matriz[5][4] + matriz[6][3] + matriz[6][4]\n",
    "    centro = matriz[3][3] + matriz[3][4] + matriz[4][3] + matriz[4][4]\n",
    "    \n",
    "    if((contadorCeros <= 4) and (huecoSuperior <= centro) and (huecoInferior <= centro)):\n",
    "        resultado = True\n",
    "    return resultado"
   ]
  },
  {
   "cell_type": "code",
   "execution_count": 25,
   "metadata": {},
   "outputs": [],
   "source": [
    "#Se recorre todos los 1797 datos en busca de los numero 8\n",
    "listaOcho = []\n",
    "for a in range(1797):\n",
    "    if(encuentraNumOcho(digits.images[a])):\n",
    "        listaOcho.append(a)"
   ]
  },
  {
   "cell_type": "code",
   "execution_count": 26,
   "metadata": {},
   "outputs": [
    {
     "data": {
      "text/plain": [
       "350"
      ]
     },
     "execution_count": 26,
     "metadata": {},
     "output_type": "execute_result"
    }
   ],
   "source": [
    "#Cantidad de ochos encontrados con el algoritmo\n",
    "len(listaOcho)"
   ]
  },
  {
   "cell_type": "code",
   "execution_count": 27,
   "metadata": {},
   "outputs": [
    {
     "name": "stdout",
     "output_type": "stream",
     "text": [
      "40\n"
     ]
    }
   ],
   "source": [
    "#Cantidad de resultados correctos en una muestra del 30% escogida de forma aleatoria\n",
    "contadorCorrectas = 0\n",
    "for b in range(105):\n",
    "    if(digits.target[listaOcho[b + 210]] == 8):\n",
    "        contadorCorrectas = contadorCorrectas + 1\n",
    "print(contadorCorrectas)"
   ]
  },
  {
   "cell_type": "code",
   "execution_count": 24,
   "metadata": {},
   "outputs": [],
   "source": [
    "#Algoritmo para encontrar los dos\n",
    "def encuentraNumDos(matriz):\n",
    "    contador = 0\n",
    "    resultado = False\n",
    "    if((matriz[0][3] + matriz[0][4] + matriz[0][5]) >= 15):\n",
    "       contador = contador + 1\n",
    "    if((matriz[1][3] + matriz[1][4] + matriz[1][5]) >= 27):\n",
    "       contador = contador + 1\n",
    "    if((matriz[2][3] + matriz[2][4]) >= 5):\n",
    "       contador = contador + 1\n",
    "    if((matriz[3][3] + matriz[3][4]) >= 14):\n",
    "       contador = contador + 1\n",
    "    if((matriz[4][3] + matriz[4][4]) >= 20):\n",
    "       contador = contador + 1\n",
    "    if((matriz[5][3] + matriz[5][4]) >= 13):\n",
    "       contador = contador + 1\n",
    "    if((matriz[6][3] + matriz[6][4] + matriz[6][5]) >= 29):\n",
    "       contador = contador + 1\n",
    "    if((matriz[7][3] + matriz[7][4] + matriz[7][5]) >= 24):\n",
    "       contador = contador + 1\n",
    "\n",
    "\n",
    "    if(contador >= 7):\n",
    "       resultado = True\n",
    "   \n",
    "    return resultado"
   ]
  },
  {
   "cell_type": "code",
   "execution_count": 28,
   "metadata": {},
   "outputs": [],
   "source": [
    "#Se recorre todos los 1797 datos en busca de los numero 2\n",
    "listaDos = []\n",
    "for c in range(1797):\n",
    "    if(encuentraNumDos(digits.images[c])):\n",
    "        listaDos.append(c)"
   ]
  },
  {
   "cell_type": "code",
   "execution_count": 29,
   "metadata": {},
   "outputs": [
    {
     "data": {
      "text/plain": [
       "422"
      ]
     },
     "execution_count": 29,
     "metadata": {},
     "output_type": "execute_result"
    }
   ],
   "source": [
    "#Cantidad de dos encontrados con el algoritmo\n",
    "len(listaDos)"
   ]
  },
  {
   "cell_type": "code",
   "execution_count": 31,
   "metadata": {},
   "outputs": [
    {
     "name": "stdout",
     "output_type": "stream",
     "text": [
      "33\n"
     ]
    }
   ],
   "source": [
    "#Cantidad de resultados correctos en una muestra del 30% escogida de forma aleatoria\n",
    "contadorCorrectasDos = 0\n",
    "for d in range(127):\n",
    "    if(digits.target[listaDos[d + 127]] == 2):\n",
    "        contadorCorrectasDos = contadorCorrectasDos + 1\n",
    "print(contadorCorrectasDos)"
   ]
  }
 ],
 "metadata": {
  "kernelspec": {
   "display_name": "Python 3",
   "language": "python",
   "name": "python3"
  },
  "language_info": {
   "codemirror_mode": {
    "name": "ipython",
    "version": 3
   },
   "file_extension": ".py",
   "mimetype": "text/x-python",
   "name": "python",
   "nbconvert_exporter": "python",
   "pygments_lexer": "ipython3",
   "version": "3.7.3"
  }
 },
 "nbformat": 4,
 "nbformat_minor": 2
}
